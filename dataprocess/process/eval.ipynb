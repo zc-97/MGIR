{
 "cells": [
  {
   "cell_type": "code",
   "execution_count": null,
   "metadata": {},
   "outputs": [],
   "source": [
    "%run getdata1.py --dataset='Tmall' --va=0\n",
    "%run getSubGraph2.py --dataset='Tmall' --freq 10 --cold_ratio 0.85 --seq_ratio 1.0\n",
    "%run getDegreeMatrix3.py --dataset='Tmall'\n",
    "%run data4.py --dataset='Tmall'\n",
    "%run  ../../Final/FinalModel/main.py --dataset='Tmall' --dropout_gcn=0.2 --dropout_local=0.2 --device='cuda:0'"
   ]
  },
  {
   "cell_type": "code",
   "execution_count": null,
   "metadata": {},
   "outputs": [],
   "source": [
    "%run getdata1.py --dataset='retailrocket' --va=0\n",
    "%run getSubGraph2.py --dataset='retailrocket' --freq 30 --cold_ratio 0.9 --seq_ratio 1.0 \n",
    "%run getDegreeMatrix3.py --dataset='retailrocket'\n",
    "%run data4.py --dataset='retailrocket'\n",
    "%run  ../../Final/FinalModel/main.py --dataset='retailrocket' --dropout_gcn=0.1 --dropout_local=0.5 --l2=1e-6 --alpha=0.8 --device='cuda:0'"
   ]
  },
  {
   "cell_type": "code",
   "execution_count": null,
   "metadata": {},
   "outputs": [],
   "source": [
    "%run getdata1.py --dataset='LastFM' --va=0\n",
    "%run getSubGraph2.py --dataset='LastFM'  --freq 70 --cold_ratio 0.95 --seq_ratio 1.0 \n",
    "%run getDegreeMatrix3.py --dataset='LastFM'\n",
    "%run data4.py --dataset='LastFM'\n",
    "%run ../../Final/FinalModel/main.py --dataset='LastFM' --dropout_gcn=0.2 --dropout_local=0.3 --l2=1e-6 --alpha=0.4 --batch_size=512 --device='cuda:0'"
   ]
  }
 ],
 "metadata": {
  "kernelspec": {
   "display_name": "Python 3",
   "language": "python",
   "name": "python3"
  },
  "language_info": {
   "codemirror_mode": {
    "name": "ipython",
    "version": 3
   },
   "file_extension": ".py",
   "mimetype": "text/x-python",
   "name": "python",
   "nbconvert_exporter": "python",
   "pygments_lexer": "ipython3",
   "version": "3.8.3"
  }
 },
 "nbformat": 4,
 "nbformat_minor": 4
}
